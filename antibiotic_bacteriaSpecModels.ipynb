{
 "cells": [
  {
   "cell_type": "code",
   "execution_count": 11,
   "metadata": {},
   "outputs": [],
   "source": [
    "import numpy as np\n",
    "import matplotlib.pyplot as plt\n",
    "from scipy.integrate import odeint\n",
    "import seaborn as sns\n",
    "import pandas as pd"
   ]
  },
  {
   "cell_type": "markdown",
   "metadata": {},
   "source": [
    "## Functions"
   ]
  },
  {
   "cell_type": "code",
   "execution_count": 12,
   "metadata": {},
   "outputs": [],
   "source": [
    "# funciones\n",
    "\n",
    "\n",
    "#ecuaciones diferenciales\n",
    "def df1(y,t,params):   \n",
    "    S,ZC,ZH,IC,IHC,IHH,MC, MH = y\n",
    "    Lambda,phi,xi_C,xi_H,V_C,V_H,alpha,gamma,beta_H,beta_C,omega_H,omega_C,eta,rho,delta,delta_I,epsilon = params\n",
    "    \n",
    "    dS = Lambda*(S+ZC+ZH+IC+IHC+IHH) + gamma*ZC + gamma*ZH - rho*epsilon*(beta_C*S*ZC) - rho*delta*epsilon*(beta_H*S*ZH) - phi*S\n",
    "    \n",
    "    dZC = rho*epsilon*(beta_C*S*ZC) + omega_C*IC + alpha*ZH - xi_C*(1-gamma)*(1-delta)*ZC - delta*ZC - gamma*ZC - phi*ZC\n",
    "    \n",
    "    dZH = rho*delta*epsilon*(beta_H*S*ZH) + delta*ZC + omega_H*(IHH+IHC) - xi_H*(1-alpha)*ZH - alpha*ZH - phi*ZH - gamma*ZH\n",
    "    \n",
    "    dIC = xi_C*(1-gamma)*(1-delta)*ZC - delta_I*IC - omega_C*IC - (1-omega_C)*(1-delta_I)*eta*V_C*IC - phi*IC\n",
    "    \n",
    "    dIHC = delta_I*IC-omega_H*IHC-(1-omega_H)*eta*V_H*IHC-phi*IHC\n",
    "    \n",
    "    dIHH = xi_H*(1-alpha)*ZH-omega_H*IHH-(1-omega_H)*eta*V_H*IHH-phi*IHH\n",
    "    \n",
    "    dRC = (1-omega_C)*(1-delta_I)*eta*V_C*IC\n",
    "    \n",
    "    dRH = (1-omega_H)*eta*V_H*(IHC+IHH)\n",
    "\n",
    "    derivs = [dS,dZC,dZH,dIC,dIHC,dIHH,dRC,dRH]\n",
    "        \n",
    "    return derivs\n"
   ]
  },
  {
   "cell_type": "markdown",
   "metadata": {},
   "source": [
    "# Parameters and Initial Conditios"
   ]
  },
  {
   "cell_type": "code",
   "execution_count": 13,
   "metadata": {},
   "outputs": [],
   "source": [
    "#parameters\n",
    "\n",
    "Lambda= 0.000032\n",
    "phi= 0.000019\n",
    "xi_C= 0.00011\n",
    "xi_H= 0.011\n",
    "V_C= 0.368\n",
    "V_H= 0.368/1.31\n",
    "alpha = 0.32\n",
    "gamma= 0.033\n",
    "beta_H = 0.0005308\n",
    "beta_C = beta_H*0.25\n",
    "omega_H= 0.2\n",
    "omega_C= 0.25*0.2\n",
    "eta= 0.1\n",
    "rho= np.array([1,1.27])\n",
    "delta= 0.000054\n",
    "delta_I= 0.8\n",
    "epsilon= 0.01253\n",
    "\n",
    "#Initial Conditions\n",
    "\n",
    "N = 46000\n",
    "\n",
    "S_0 = 0.5*N\n",
    "\n",
    "Hospitalized = 0.0025*N \n",
    "Infected_Hospital = Hospitalized*0.0842\n",
    "\n",
    "\n",
    "ZH_0 = Hospitalized*(1-0.0842)\n",
    "\n",
    "IC_0 = Hospitalized*0.0842*0.5 #assume that infected in community are half of infected in hospital\n",
    "\n",
    "IHC_0 = Infected_Hospital*0.87\n",
    "IHH_0 = Infected_Hospital*0.13\n",
    "\n",
    "ZC_0 = N-S_0-ZH_0-IC_0-IHC_0-IHH_0\n",
    "\n",
    "RC_0 = 0\n",
    "RH_0 = 0\n",
    "\n",
    "y0 = [S_0,ZC_0,ZH_0,IC_0,IHC_0,IHH_0,RC_0,RH_0]\n",
    "compartment_names = [r'$S$',r'$Z_C$',r'$Z_H$',r'$I_C$',r'$I_{HC}$',r'$I_{HH}$',r'$R_C$',r'$R_H$',r'$I_H$','N']\n",
    "\n",
    "colors = {r'$S$':'goldenrod',\n",
    "          r'$Z_C$':'blue',r'$Z_H$':'green',\n",
    "          r'$I_C$':'red',r'$I_{HC}$':'purple',r'$I_{HH}$':'brown',\n",
    "          r'$R_C$':'black',r'$R_H$':'chocolate',\n",
    "          r'$I_H$':'orange','N':'darkblue'}\n",
    "\n",
    "#timeline\n",
    "\n",
    "tInc = 1\n",
    "tStop = 700\n",
    "t = np.arange(0,tStop,tInc)"
   ]
  },
  {
   "cell_type": "markdown",
   "metadata": {},
   "source": [
    "# I) New parameters for antibiotic specific GN bacteria modelling"
   ]
  },
  {
   "cell_type": "code",
   "execution_count": 14,
   "metadata": {},
   "outputs": [],
   "source": [
    "##Parameters\n",
    "\n",
    "#betas\n",
    "\n",
    "beta_H_quin = 0.00006171\n",
    "beta_H_ceph = 0.006831\n",
    "beta_H_carb = 0.0001766\n",
    "\n",
    "#rho\n",
    "\n",
    "rho_quin = 1.57\n",
    "rho_ceph = 1.30\n",
    "rho_carb = 1.01\n",
    "\n",
    "parameters_bas1 = Lambda,phi,xi_C,xi_H,V_C,V_H,alpha,gamma,beta_H_quin,beta_C,omega_H,omega_C,eta,rho[0],delta,delta_I,epsilon\n",
    "parameters_bas2 = Lambda,phi,xi_C,xi_H,V_C,V_H,alpha,gamma,beta_H_quin,beta_C,omega_H,omega_C,eta,rho[1],delta,delta_I,epsilon\n",
    "parameters_quin = Lambda,phi,xi_C,xi_H,V_C,V_H,alpha,gamma,beta_H_quin,beta_C,omega_H,omega_C,eta,rho_quin,delta,delta_I,epsilon\n",
    "parameters_ceph = Lambda,phi,xi_C,xi_H,V_C,V_H,alpha,gamma,beta_H_ceph,beta_C,omega_H,omega_C,eta,rho_ceph,delta,delta_I,epsilon\n",
    "parameters_carb = Lambda,phi,xi_C,xi_H,V_C,V_H,alpha,gamma,beta_H_carb,beta_C,omega_H,omega_C,eta,rho_carb,delta,delta_I,epsilon\n",
    "\n",
    "#Initial Conditions\n",
    "\n",
    "def Initial_Conditions(p_ZC,p_ZH):\n",
    "    N = 46000\n",
    "    \n",
    "    Hospitalized = 0.0025*N \n",
    "    Infected_Hospital = Hospitalized*0.0842\n",
    "    \n",
    "    #community\n",
    "    ZC = p_ZC*N\n",
    "    IC = Infected_Hospital*0.5 #assume that infected in community are half of infected in hospital\n",
    "    RC = 0\n",
    "    \n",
    "    #hospitalized\n",
    "    \n",
    "    ZH = p_ZH*Hospitalized\n",
    "    IHC = Infected_Hospital*0.87\n",
    "    IHH = Infected_Hospital*0.13\n",
    "    RH = 0\n",
    "    \n",
    "    \n",
    "    #susceptibles\n",
    "    \n",
    "    S = N-ZC-IC-ZH-Infected_Hospital\n",
    "    \n",
    "    \n",
    "    return [S,ZC,ZH,IC,IHC,IHH,RC,RH]\n",
    "\n",
    "##quinolones\n",
    "\n",
    "p_ZC_quin = 0.3949\n",
    "p_ZH_quin = 0.4645\n",
    "\n",
    "y0_quin = Initial_Conditions(p_ZC_quin,p_ZH_quin)\n",
    "\n",
    "#cephalosporins\n",
    "\n",
    "p_ZC_ceph = 0.2885\n",
    "p_ZH_ceph = 0.4116\n",
    "\n",
    "y0_ceph = Initial_Conditions(p_ZC_ceph,p_ZH_ceph)\n",
    "\n",
    "#carbapenems\n",
    "\n",
    "p_ZC_carb = 0.056\n",
    "p_ZH_carb = 0.031\n",
    "\n",
    "y0_carb = Initial_Conditions(p_ZC_carb,p_ZH_carb)"
   ]
  },
  {
   "cell_type": "code",
   "execution_count": 15,
   "metadata": {},
   "outputs": [],
   "source": [
    "#Run the model\n",
    "\n",
    "def model(Inicial_Conditions,parameters):\n",
    "    psoln = odeint(df1, y0, t, args=(parameters,)) #resolvemos el sistema\n",
    "    IH = psoln[:,4]+psoln[:,5] #sumamos IH = IHH+IHC\n",
    "    N = psoln[:,0]+psoln[:,1]+psoln[:,2]+psoln[:,3]+psoln[:,4]+psoln[:,5] #calculamos N\n",
    "    solutions = np.append(psoln,np.atleast_2d(IH).T, axis=1) #lo agregamos a la lista\n",
    "    solutions = np.append(solutions,np.atleast_2d(N).T, axis=1)\n",
    "    \n",
    "    return solutions\n",
    "\n",
    "RESULTS_bas1 = model(y0,parameters_bas1)\n",
    "RESULTS_bas2 = model(y0,parameters_bas2)\n",
    "RESULTS_quin = model(y0_quin,parameters_quin)\n",
    "RESULTS_ceph = model(y0_ceph,parameters_ceph)\n",
    "RESULTS_carb = model(y0_carb,parameters_carb)"
   ]
  },
  {
   "cell_type": "code",
   "execution_count": 42,
   "metadata": {},
   "outputs": [],
   "source": [
    "#hacemos una tabla/dict con la comparación en porcentaje\n",
    "\n",
    "def comparative(BASELINE,RESULTS):\n",
    "    \n",
    "    output = np.array([])\n",
    "    \n",
    "    for i, compartment in enumerate(compartment_names):\n",
    "        \n",
    "        mean_baseline_i = np.mean(BASELINE[-100:,i])\n",
    "        mean_result_i = np.mean(RESULTS[-100:,i])\n",
    "        \n",
    "        comp_i = (mean_result_i-mean_baseline_i)/mean_baseline_i\n",
    "        \n",
    "        output = np.append(output,comp_i)\n",
    "    \n",
    "    return output\n",
    "\n",
    "\n",
    "antibiotics_name = ['quin','ceph','carb']\n",
    "compartments_name = [r'$S$',r'$Z_C$',r'$Z_H$',r'$I_C$',r'$I_{HC}$',r'$I_{HH}$',r'$R_C$',r'$R_H$',r'$I_H$','N']\n",
    "\n",
    "#diccionario con baseline 1 (rho=1.0)\n",
    "\n",
    "COMP1_quin = comparative(RESULTS_bas1,RESULTS_quin)\n",
    "COMP1_ceph = comparative(RESULTS_bas1,RESULTS_ceph)\n",
    "COMP1_carb = comparative(RESULTS_bas1,RESULTS_carb)\n",
    "\n",
    "dict_COMP1 = {}\n",
    "\n",
    "for i, name_comp in enumerate(compartments_name): #run through the compartments\n",
    "    \n",
    "    compartment = []\n",
    "    \n",
    "    for j,name_ant in enumerate(antibiotics_name):\n",
    "        \n",
    "        compartment.append(eval('COMP1_'+name_ant)[i])\n",
    "        \n",
    "    dict_COMP1[name_comp] = compartment\n",
    "\n",
    "#diccionario con baseline 2 (rho=1.27)  \n",
    "\n",
    "COMP2_quin = comparative(RESULTS_bas2,RESULTS_quin)\n",
    "COMP2_ceph = comparative(RESULTS_bas2,RESULTS_ceph)\n",
    "COMP2_carb = comparative(RESULTS_bas2,RESULTS_carb)\n",
    "\n",
    "dict_COMP2 = {}\n",
    "\n",
    "for i, name_comp in enumerate(compartments_name): #run through the compartments\n",
    "    \n",
    "    compartment = []\n",
    "    \n",
    "    for j,name_ant in enumerate(antibiotics_name):\n",
    "        \n",
    "        compartment.append(eval('COMP2_'+name_ant)[i])\n",
    "        \n",
    "    dict_COMP2[name_comp] = compartment"
   ]
  },
  {
   "cell_type": "code",
   "execution_count": 50,
   "metadata": {
    "scrolled": false
   },
   "outputs": [
    {
     "name": "stderr",
     "output_type": "stream",
     "text": [
      "<ipython-input-50-513349786454>:20: MatplotlibDeprecationWarning: Passing the minor parameter of set_ticks() positionally is deprecated since Matplotlib 3.2; the parameter will become keyword-only two minor releases later.\n",
      "  ax.set_xticks(x, labels)\n"
     ]
    },
    {
     "data": {
      "image/png": "[encoded data removed]",
      "text/plain": [
       "<Figure size 432x288 with 1 Axes>"
      ]
     },
     "metadata": {
      "needs_background": "light"
     },
     "output_type": "display_data"
    }
   ],
   "source": [
    "#plot rho=1\n",
    "\n",
    "labels = [r'$S$',r'$Z_C$',r'$Z_H$',r'$I_C$',r'$I_{HC}$',r'$I_{HH}$',r'$R_C$',r'$R_H$',r'$I_H$']\n",
    "quinolones = [100*dict_COMP1[key][0] for key in labels]\n",
    "cephalosporines = [100*dict_COMP1[key][1] for key in labels]\n",
    "carbapenems = [100*dict_COMP1[key][2] for key in labels]\n",
    "\n",
    "x = np.arange(len(labels))  # the label locations\n",
    "width = 0.2  # the width of the bars\n",
    "\n",
    "fig, ax = plt.subplots()\n",
    "rects1 = ax.bar(x - width, quinolones, width, label='quinolones')\n",
    "rects2 = ax.bar(x, cephalosporines, width, label='cephalosporins')\n",
    "rects3 = ax.bar(x + width, carbapenems, width, label='carbapenems')\n",
    "\n",
    "\n",
    "# Add some text for labels, title and custom x-axis tick labels, etc.\n",
    "ax.set_ylabel('Difference with base GN-ARB model (%)')\n",
    "ax.set_title(r'Percentage difference compared to GN-ARB model using $\\rho = 1.0$')\n",
    "ax.set_xticks(x, labels)\n",
    "ax.legend()\n",
    "ax.yaxis.grid(True)\n",
    "\n",
    "#ax.bar_label(rects1, padding=3)\n",
    "#ax.bar_label(rects2, padding=3)\n",
    "\n",
    "fig.tight_layout()\n",
    "plt.xticks(x, labels)\n",
    "plt.savefig(\"Diff_atbp1.pdf\", dpi=280)"
   ]
  },
  {
   "cell_type": "code",
   "execution_count": 51,
   "metadata": {},
   "outputs": [
    {
     "name": "stderr",
     "output_type": "stream",
     "text": [
      "<ipython-input-51-4704482b95a6>:20: MatplotlibDeprecationWarning: Passing the minor parameter of set_ticks() positionally is deprecated since Matplotlib 3.2; the parameter will become keyword-only two minor releases later.\n",
      "  ax.set_xticks(x, labels)\n"
     ]
    },
    {
     "data": {
      "image/png": "[encoded data removed]",
      "text/plain": [
       "<Figure size 432x288 with 1 Axes>"
      ]
     },
     "metadata": {
      "needs_background": "light"
     },
     "output_type": "display_data"
    }
   ],
   "source": [
    "#plot rho=1.27\n",
    "\n",
    "labels = [r'$S$',r'$Z_C$',r'$Z_H$',r'$I_C$',r'$I_{HC}$',r'$I_{HH}$',r'$R_C$',r'$R_H$',r'$I_H$']\n",
    "quinolones = [100*dict_COMP2[key][0] for key in labels]\n",
    "cephalosporines = [100*dict_COMP2[key][1] for key in labels]\n",
    "carbapenems = [100*dict_COMP2[key][2] for key in labels]\n",
    "\n",
    "x = np.arange(len(labels))  # the label locations\n",
    "width = 0.2  # the width of the bars\n",
    "\n",
    "fig, ax = plt.subplots()\n",
    "rects1 = ax.bar(x - width, quinolones, width, label='quinolones')\n",
    "rects2 = ax.bar(x, cephalosporines, width, label='cephalosporins')\n",
    "rects3 = ax.bar(x + width, carbapenems, width, label='carbapenems')\n",
    "\n",
    "\n",
    "# Add some text for labels, title and custom x-axis tick labels, etc.\n",
    "ax.set_ylabel('Difference with base GN-ARB model (%)')\n",
    "ax.set_title(r'Percentage difference compared to GN-ARB model using $\\rho = 1.27$')\n",
    "ax.set_xticks(x, labels)\n",
    "ax.legend()\n",
    "ax.yaxis.grid(True)\n",
    "\n",
    "#ax.bar_label(rects1, padding=3)\n",
    "#ax.bar_label(rects2, padding=3)\n",
    "fig.tight_layout()\n",
    "plt.xticks(x, labels)\n",
    "plt.savefig(\"Diff_atbp127.pdf\", dpi=250)"
   ]
  },
  {
   "cell_type": "markdown",
   "metadata": {},
   "source": [
    "# II) New analyses by varying the transmission parameter and according to different GN bacterial species"
   ]
  },
  {
   "cell_type": "code",
   "execution_count": 45,
   "metadata": {},
   "outputs": [],
   "source": [
    "#Range \n",
    "\n",
    "#Enterobacteriaceae\n",
    "beta_H_ent_min = 0.000018 \n",
    "beta_H_ent_max = 0.0048\n",
    "\n",
    "beta_H_ent = [beta_H_ent_min,beta_H_ent_max]\n",
    "\n",
    "#Klebsiella pneumoniae\n",
    "beta_H_kleb_min = 0.0038 \n",
    "beta_H_kleb_max = 0.0096 \n",
    "\n",
    "beta_H_kleb = [beta_H_kleb_min,beta_H_kleb_max]\n",
    "\n",
    "#Acinetobacter baumanii \n",
    "beta_H_aci_min = 0.0050 \n",
    "beta_H_aci_max = 0.078 \n",
    "\n",
    "beta_H_aci = [beta_H_aci_min,beta_H_aci_max]\n",
    "\n",
    "\n"
   ]
  },
  {
   "cell_type": "code",
   "execution_count": 46,
   "metadata": {},
   "outputs": [],
   "source": [
    "# simulación min y max\n",
    "\n",
    "def Simulaciones_beta (y0,parameters,list_beta_H):\n",
    "    \n",
    "    compartment_names = [r'$S$',r'$Z_C$',r'$Z_H$',r'$I_C$',r'$I_{HC}$',r'$I_{HH}$',r'$R_C$',r'$R_H$',r'$I_H$','N']\n",
    "    Lambda,phi,xi_C,xi_H,V_C,V_H,alpha,gamma,beta_H,beta_C,omega_H,omega_C,eta,rho,delta,delta_I,epsilon = parameters\n",
    "    \n",
    "    RESULTS = {'min': None,\n",
    "               'max': None,\n",
    "               'mean':None}\n",
    "    \n",
    "    for i, beta_H in enumerate(list_beta_H):\n",
    "        parameters = Lambda,phi,xi_C,xi_H,V_C,V_H,alpha,gamma,beta_H,beta_C,omega_H,omega_C,eta,rho,delta,delta_I,epsilon\n",
    "        matrix = model(y0,parameters)\n",
    "        \n",
    "        if i==0:\n",
    "            RESULTS['min'] = matrix\n",
    "            \n",
    "        else:\n",
    "            RESULTS['max'] = matrix\n",
    "    \n",
    "    RESULTS['mean'] =  (RESULTS['min']+RESULTS['max'])/2\n",
    "    \n",
    "    return RESULTS\n",
    "\n",
    "RESULTS1_ent = Simulaciones_beta(y0,parameters_bas1,beta_H_ent)\n",
    "RESULTS1_kleb = Simulaciones_beta(y0,parameters_bas1,beta_H_kleb)\n",
    "RESULTS1_aci  = Simulaciones_beta(y0,parameters_bas1,beta_H_aci)\n",
    "\n",
    "RESULTS2_ent = Simulaciones_beta(y0,parameters_bas2,beta_H_ent)\n",
    "RESULTS2_kleb = Simulaciones_beta(y0,parameters_bas2,beta_H_kleb)\n",
    "RESULTS2_aci  = Simulaciones_beta(y0,parameters_bas2,beta_H_aci)"
   ]
  },
  {
   "cell_type": "code",
   "execution_count": 47,
   "metadata": {},
   "outputs": [],
   "source": [
    "#Comp, baseline\n",
    "\n",
    "bacterial_name = ['ent','kleb','aci']\n",
    "compartments_name = [r'$S$',r'$Z_C$',r'$Z_H$',r'$I_C$',r'$I_{HC}$',r'$I_{HH}$',r'$R_C$',r'$R_H$',r'$I_H$','N']\n",
    "\n",
    "\n",
    "COMP1_ent = {key: comparative(RESULTS_bas1,RESULTS1_ent[key]) for key in RESULTS1_ent.keys()}\n",
    "COMP1_kleb = {key: comparative(RESULTS_bas1,RESULTS1_kleb[key]) for key in RESULTS1_kleb.keys()}\n",
    "COMP1_aci = {key: comparative(RESULTS_bas1,RESULTS1_aci[key]) for key in RESULTS1_aci.keys()}\n",
    "\n",
    "\n",
    "COMP2_ent = {key: comparative(RESULTS_bas2,RESULTS2_ent[key]) for key in RESULTS2_ent.keys()}\n",
    "COMP2_kleb = {key: comparative(RESULTS_bas2,RESULTS2_kleb[key]) for key in RESULTS2_kleb.keys()}\n",
    "COMP2_aci = {key: comparative(RESULTS_bas2,RESULTS2_aci[key]) for key in RESULTS2_aci.keys()}"
   ]
  },
  {
   "cell_type": "code",
   "execution_count": 48,
   "metadata": {},
   "outputs": [
    {
     "name": "stderr",
     "output_type": "stream",
     "text": [
      "<ipython-input-48-8a8789f186a3>:22: MatplotlibDeprecationWarning: Passing the minor parameter of set_ticks() positionally is deprecated since Matplotlib 3.2; the parameter will become keyword-only two minor releases later.\n",
      "  ax.set_xticks(x, labels)\n"
     ]
    },
    {
     "data": {
      "image/png": "[encoded data removed]",
      "text/plain": [
       "<Figure size 432x288 with 1 Axes>"
      ]
     },
     "metadata": {
      "needs_background": "light"
     },
     "output_type": "display_data"
    }
   ],
   "source": [
    "# plot 1\n",
    "\n",
    "labels = [r'$S$',r'$Z_C$',r'$Z_H$',r'$I_C$',r'$I_{HC}$',r'$I_{HH}$',r'$R_C$',r'$R_H$',r'$I_H$']\n",
    "\n",
    "x = np.arange(len(labels))  # the label locations\n",
    "width = 0.2  # the width of the bars\n",
    "\n",
    "fig, ax = plt.subplots()\n",
    "\n",
    "error1 = (COMP1_ent['mean'][:-1]-COMP1_ent['min'][:-1])/1.96\n",
    "error2 = (COMP1_ent['mean'][:-1]-COMP1_kleb['min'][:-1])/1.96\n",
    "error3 = (COMP1_ent['mean'][:-1]-COMP1_aci['min'][:-1])/1.96\n",
    "\n",
    "rects1 = ax.bar(x - width, COMP1_ent['mean'][:-1], width, yerr= error1, color = 'red', label='Enterobacteriaceae')\n",
    "rects2 = ax.bar(x, COMP1_kleb['mean'][:-1], width,yerr= error2, color = 'yellow',label='Klebsiella pneumoniae')\n",
    "rects3 = ax.bar(x + width, COMP1_aci['mean'][:-1], width,yerr= error3,color = 'purple', label='Acinetobacter baumanii')\n",
    "\n",
    "\n",
    "# Add some text for labels, title and custom x-axis tick labels, etc.\n",
    "ax.set_ylabel('Difference with base GN-ARB model (%)')\n",
    "ax.set_title(r'Percentage difference with baseline and $\\rho = 1$')\n",
    "ax.set_xticks(x, labels)\n",
    "ax.legend()\n",
    "ax.yaxis.grid(True)\n",
    "\n",
    "#ax.bar_label(rects1, padding=3)\n",
    "#ax.bar_label(rects2, padding=3)\n",
    "\n",
    "fig.tight_layout()\n",
    "\n",
    "#plt.show()\n",
    "plt.xticks(x, labels)\n",
    "plt.savefig(\"Diff_bact1.pdf\", dpi=250)"
   ]
  },
  {
   "cell_type": "code",
   "execution_count": 49,
   "metadata": {},
   "outputs": [
    {
     "name": "stderr",
     "output_type": "stream",
     "text": [
      "<ipython-input-49-58f875bf3325>:22: MatplotlibDeprecationWarning: Passing the minor parameter of set_ticks() positionally is deprecated since Matplotlib 3.2; the parameter will become keyword-only two minor releases later.\n",
      "  ax.set_xticks(x, labels)\n"
     ]
    },
    {
     "data": {
      "image/png": "[encoded data removed]",
      "text/plain": [
       "<Figure size 432x288 with 1 Axes>"
      ]
     },
     "metadata": {
      "needs_background": "light"
     },
     "output_type": "display_data"
    }
   ],
   "source": [
    "# plot 2\n",
    "\n",
    "labels = [r'$S$',r'$Z_C$',r'$Z_H$',r'$I_C$',r'$I_{HC}$',r'$I_{HH}$',r'$R_C$',r'$R_H$',r'$I_H$']\n",
    "\n",
    "x = np.arange(len(labels))  # the label locations\n",
    "width = 0.2  # the width of the bars\n",
    "\n",
    "fig, ax = plt.subplots()\n",
    "\n",
    "error1 = (COMP2_ent['mean'][:-1]-COMP2_ent['min'][:-1])/1.96\n",
    "error2 = (COMP2_ent['mean'][:-1]-COMP2_kleb['min'][:-1])/1.96\n",
    "error3 = (COMP2_ent['mean'][:-1]-COMP2_aci['min'][:-1])/1.96\n",
    "\n",
    "rects1 = ax.bar(x - width, COMP2_ent['mean'][:-1], width, yerr= error1, color = 'red', label='Enterobacteriaceae')\n",
    "rects2 = ax.bar(x, COMP2_kleb['mean'][:-1], width,yerr= error2, color = 'yellow', label='Klebsiella pneumoniae')\n",
    "rects3 = ax.bar(x + width, COMP2_aci['mean'][:-1], width,yerr= error3, color = 'purple',label='Acinetobacter baumanii')\n",
    "\n",
    "\n",
    "# Add some text for labels, title and custom x-axis tick labels, etc.\n",
    "ax.set_ylabel('Difference with base GN-ARB model (%)')\n",
    "ax.set_title(r'Percentage difference with baseline and $\\rho = 1.27$')\n",
    "ax.set_xticks(x, labels)\n",
    "ax.legend()\n",
    "ax.yaxis.grid(True)\n",
    "\n",
    "#ax.bar_label(rects1, padding=3)\n",
    "#ax.bar_label(rects2, padding=3)\n",
    "\n",
    "fig.tight_layout()\n",
    "\n",
    "plt.xticks(x, labels)\n",
    "plt.savefig(\"Diff_bact127.pdf\", dpi=250)"
   ]
  },
  {
   "cell_type": "code",
   "execution_count": null,
   "metadata": {},
   "outputs": [],
   "source": []
  }
 ],
 "metadata": {
  "kernelspec": {
   "display_name": "Python 3",
   "language": "python",
   "name": "python3"
  },
  "language_info": {
   "codemirror_mode": {
    "name": "ipython",
    "version": 3
   },
   "file_extension": ".py",
   "mimetype": "text/x-python",
   "name": "python",
   "nbconvert_exporter": "python",
   "pygments_lexer": "ipython3",
   "version": "3.8.2"
  }
 },
 "nbformat": 4,
 "nbformat_minor": 5
}
